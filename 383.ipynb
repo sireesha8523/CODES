{
 "cells": [
  {
   "cell_type": "code",
   "execution_count": 3,
   "id": "4a37961f-dd1a-4158-8bb6-b07f11bffd30",
   "metadata": {},
   "outputs": [
    {
     "data": {
      "text/plain": [
       "[203, 'Hyderabad', 45, True, False, 23.06, 124]"
      ]
     },
     "execution_count": 3,
     "metadata": {},
     "output_type": "execute_result"
    }
   ],
   "source": [
    "c=[203,'Hyderabad',45,True,False,23.06,124]\n",
    "c"
   ]
  },
  {
   "cell_type": "code",
   "execution_count": 4,
   "id": "f00064fa-3b51-48bc-8bd7-449fd387375b",
   "metadata": {},
   "outputs": [
    {
     "data": {
      "text/plain": [
       "23.06"
      ]
     },
     "execution_count": 4,
     "metadata": {},
     "output_type": "execute_result"
    }
   ],
   "source": [
    "c[5]"
   ]
  },
  {
   "cell_type": "code",
   "execution_count": 5,
   "id": "5508bd54-3f7b-47f1-8f9c-1bf03c22c5da",
   "metadata": {},
   "outputs": [
    {
     "data": {
      "text/plain": [
       "True"
      ]
     },
     "execution_count": 5,
     "metadata": {},
     "output_type": "execute_result"
    }
   ],
   "source": [
    "c[3]"
   ]
  },
  {
   "cell_type": "code",
   "execution_count": 6,
   "id": "81ea15b7-d87b-4d10-95cf-4f556bc89dac",
   "metadata": {},
   "outputs": [
    {
     "data": {
      "text/plain": [
       "[203, 'Hyderabad', 45, True, False]"
      ]
     },
     "execution_count": 6,
     "metadata": {},
     "output_type": "execute_result"
    }
   ],
   "source": [
    "c[0:5]"
   ]
  },
  {
   "cell_type": "code",
   "execution_count": 7,
   "id": "518b1696-8c8a-4e69-a28a-8ae5b63fa921",
   "metadata": {},
   "outputs": [
    {
     "data": {
      "text/plain": [
       "True"
      ]
     },
     "execution_count": 7,
     "metadata": {},
     "output_type": "execute_result"
    }
   ],
   "source": [
    "c[-4]"
   ]
  },
  {
   "cell_type": "code",
   "execution_count": 8,
   "id": "91a6b535-6f8b-4d1e-8fdb-c1589b81f1c1",
   "metadata": {},
   "outputs": [
    {
     "data": {
      "text/plain": [
       "[203, 'Hyderabad', 45, True, False, 23.06]"
      ]
     },
     "execution_count": 8,
     "metadata": {},
     "output_type": "execute_result"
    }
   ],
   "source": [
    "c[0:6]"
   ]
  },
  {
   "cell_type": "markdown",
   "id": "98c5abfe-46eb-4dcb-b527-618e0628641e",
   "metadata": {},
   "source": [
    "list Methods"
   ]
  },
  {
   "cell_type": "code",
   "execution_count": null,
   "id": "856f1659-977b-492c-8a39-ec30f0d2f9c1",
   "metadata": {},
   "outputs": [],
   "source": [
    "append\n",
    "insert\n",
    "extend\n",
    "pop\n",
    "remove\n",
    "clear\n",
    "count"
   ]
  },
  {
   "cell_type": "code",
   "execution_count": 9,
   "id": "85fdd3db-d0fc-492b-b11a-7f7dd0bfc1c1",
   "metadata": {},
   "outputs": [
    {
     "data": {
      "text/plain": [
       "[203, 'Hyderabad', 45, True, False, 23.06, 124, 60]"
      ]
     },
     "execution_count": 9,
     "metadata": {},
     "output_type": "execute_result"
    }
   ],
   "source": [
    "c.append(60)\n",
    "c"
   ]
  },
  {
   "cell_type": "code",
   "execution_count": 13,
   "id": "a525792b-5731-4adf-aa29-7c21fd4cdc43",
   "metadata": {},
   "outputs": [
    {
     "data": {
      "text/plain": [
       "[203, 'Hyderabad', True, False, 23.06, 60]"
      ]
     },
     "execution_count": 13,
     "metadata": {},
     "output_type": "execute_result"
    }
   ],
   "source": [
    "c.remove(45)\n",
    "c"
   ]
  },
  {
   "cell_type": "code",
   "execution_count": 15,
   "id": "26b59547-e3c3-4e6b-ba89-b7104bd56121",
   "metadata": {},
   "outputs": [
    {
     "data": {
      "text/plain": [
       "False"
      ]
     },
     "execution_count": 15,
     "metadata": {},
     "output_type": "execute_result"
    }
   ],
   "source": [
    "c.pop(3)"
   ]
  },
  {
   "cell_type": "code",
   "execution_count": 20,
   "id": "e751bbf4-d132-413d-827b-685df0c5faf5",
   "metadata": {},
   "outputs": [
    {
     "data": {
      "text/plain": [
       "[203, 'Hyderabad', True, 23.06, 60, 20, 30]"
      ]
     },
     "execution_count": 20,
     "metadata": {},
     "output_type": "execute_result"
    }
   ],
   "source": [
    "c.extend([20,30])\n",
    "c"
   ]
  },
  {
   "cell_type": "code",
   "execution_count": 1,
   "id": "989e3b7a-32d2-4cca-8ac6-764572713999",
   "metadata": {},
   "outputs": [
    {
     "data": {
      "text/plain": [
       "(60, 55, 30, 22, 64)"
      ]
     },
     "execution_count": 1,
     "metadata": {},
     "output_type": "execute_result"
    }
   ],
   "source": [
    "h=(60,55,30,22,64)\n",
    "h"
   ]
  },
  {
   "cell_type": "code",
   "execution_count": 2,
   "id": "408ae58e-fb05-48b4-b9cd-ba66b1b6ccf3",
   "metadata": {},
   "outputs": [
    {
     "data": {
      "text/plain": [
       "1"
      ]
     },
     "execution_count": 2,
     "metadata": {},
     "output_type": "execute_result"
    }
   ],
   "source": [
    "h.count(55)"
   ]
  },
  {
   "cell_type": "code",
   "execution_count": 11,
   "id": "6951c87f-ab6b-426f-9f09-71cd67c8844d",
   "metadata": {},
   "outputs": [
    {
     "data": {
      "text/plain": [
       "list"
      ]
     },
     "execution_count": 11,
     "metadata": {},
     "output_type": "execute_result"
    }
   ],
   "source": [
    "type(c)"
   ]
  },
  {
   "cell_type": "code",
   "execution_count": null,
   "id": "0a5bff88-8b91-402f-acb6-8e7e20e91079",
   "metadata": {},
   "outputs": [],
   "source": []
  }
 ],
 "metadata": {
  "kernelspec": {
   "display_name": "Python 3 (ipykernel)",
   "language": "python",
   "name": "python3"
  },
  "language_info": {
   "codemirror_mode": {
    "name": "ipython",
    "version": 3
   },
   "file_extension": ".py",
   "mimetype": "text/x-python",
   "name": "python",
   "nbconvert_exporter": "python",
   "pygments_lexer": "ipython3",
   "version": "3.12.7"
  }
 },
 "nbformat": 4,
 "nbformat_minor": 5
}
