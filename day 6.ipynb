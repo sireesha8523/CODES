{
 "cells": [
  {
   "cell_type": "code",
   "execution_count": 1,
   "id": "b611f1ce-b74d-4e9f-be8b-7d89055c1e2e",
   "metadata": {},
   "outputs": [
    {
     "data": {
      "text/plain": [
       "{104: 4, 102: 7, 105: 2}"
      ]
     },
     "execution_count": 1,
     "metadata": {},
     "output_type": "execute_result"
    }
   ],
   "source": [
    "d={ 104: 4,102: 7,105: 2}\n",
    "d"
   ]
  },
  {
   "cell_type": "code",
   "execution_count": 2,
   "id": "5188f096-c77a-4caf-a8a1-751589a2c45c",
   "metadata": {},
   "outputs": [
    {
     "data": {
      "text/plain": [
       "4"
      ]
     },
     "execution_count": 2,
     "metadata": {},
     "output_type": "execute_result"
    }
   ],
   "source": [
    "d[104]"
   ]
  },
  {
   "cell_type": "code",
   "execution_count": 3,
   "id": "9742dd3e-9957-480d-b0b8-1e0887308d44",
   "metadata": {},
   "outputs": [
    {
     "data": {
      "text/plain": [
       "{104: 4, 102: 7, 105: 243}"
      ]
     },
     "execution_count": 3,
     "metadata": {},
     "output_type": "execute_result"
    }
   ],
   "source": [
    "d.update({105:243})\n",
    "d"
   ]
  },
  {
   "cell_type": "code",
   "execution_count": 12,
   "id": "b18a3107-1d68-44b4-a308-58e9d274feea",
   "metadata": {},
   "outputs": [
    {
     "data": {
      "text/plain": [
       "dict_keys([104, 102, 105])"
      ]
     },
     "execution_count": 12,
     "metadata": {},
     "output_type": "execute_result"
    }
   ],
   "source": [
    "d.keys()"
   ]
  },
  {
   "cell_type": "code",
   "execution_count": 13,
   "id": "dc58a517-3d22-4974-beba-ac6572ca5db9",
   "metadata": {},
   "outputs": [
    {
     "data": {
      "text/plain": [
       "dict_values([4, 7, 243])"
      ]
     },
     "execution_count": 13,
     "metadata": {},
     "output_type": "execute_result"
    }
   ],
   "source": [
    "d.values()"
   ]
  },
  {
   "cell_type": "code",
   "execution_count": 14,
   "id": "d90624f1-d377-40b6-968a-68050576cc95",
   "metadata": {},
   "outputs": [
    {
     "data": {
      "text/plain": [
       "dict_items([(104, 4), (102, 7), (105, 243)])"
      ]
     },
     "execution_count": 14,
     "metadata": {},
     "output_type": "execute_result"
    }
   ],
   "source": [
    "d.items()"
   ]
  },
  {
   "cell_type": "code",
   "execution_count": 19,
   "id": "fab4fa97-2840-4b25-a752-269a9a2f4721",
   "metadata": {},
   "outputs": [
    {
     "data": {
      "text/plain": [
       "{104: 4, 102: 7, 105: 'India'}"
      ]
     },
     "execution_count": 19,
     "metadata": {},
     "output_type": "execute_result"
    }
   ],
   "source": [
    "d.update({105:'India'})\n",
    "d"
   ]
  },
  {
   "cell_type": "code",
   "execution_count": 4,
   "id": "986a2857-268b-48c7-95ba-00b1cd6174cf",
   "metadata": {},
   "outputs": [
    {
     "data": {
      "text/plain": [
       "dict"
      ]
     },
     "execution_count": 4,
     "metadata": {},
     "output_type": "execute_result"
    }
   ],
   "source": [
    "type(d)"
   ]
  },
  {
   "cell_type": "code",
   "execution_count": 5,
   "id": "9647d3d3-d133-435f-9151-ffa2cf87819b",
   "metadata": {},
   "outputs": [
    {
     "data": {
      "text/plain": [
       "int"
      ]
     },
     "execution_count": 5,
     "metadata": {},
     "output_type": "execute_result"
    }
   ],
   "source": [
    "type(d[102])"
   ]
  },
  {
   "cell_type": "code",
   "execution_count": 6,
   "id": "aaefb38d-bf6a-4c10-8755-feb31ba38b3d",
   "metadata": {},
   "outputs": [
    {
     "data": {
      "text/plain": [
       "'india'"
      ]
     },
     "execution_count": 6,
     "metadata": {},
     "output_type": "execute_result"
    }
   ],
   "source": [
    "a='india'\n",
    "a"
   ]
  },
  {
   "cell_type": "code",
   "execution_count": 7,
   "id": "4792c7cb-048f-449a-8820-0925ef06f732",
   "metadata": {},
   "outputs": [
    {
     "data": {
      "text/plain": [
       "'INDIA'"
      ]
     },
     "execution_count": 7,
     "metadata": {},
     "output_type": "execute_result"
    }
   ],
   "source": [
    "a.upper()"
   ]
  },
  {
   "cell_type": "code",
   "execution_count": 8,
   "id": "6d36ca8b-6e62-446e-9dca-7e3c1cd3bbae",
   "metadata": {},
   "outputs": [
    {
     "data": {
      "text/plain": [
       "False"
      ]
     },
     "execution_count": 8,
     "metadata": {},
     "output_type": "execute_result"
    }
   ],
   "source": [
    "a.isdigit()"
   ]
  },
  {
   "cell_type": "code",
   "execution_count": 22,
   "id": "3e571202-1194-4085-9fe1-cc0eff23a72d",
   "metadata": {},
   "outputs": [
    {
     "data": {
      "text/plain": [
       "{104: 4,\n",
       " 102: {50: [7, 8, 9, 10], 'apple': (20, 10, 70, [90, 180, 270])},\n",
       " 105: 'India',\n",
       " 109: {'a': {40, 70, 90},\n",
       "  'b': (7000, 6000, 9000, 8000),\n",
       "  'c': ['L', {'Y': [22, 55], 'M': (99, 66)}, 'K']}}"
      ]
     },
     "execution_count": 22,
     "metadata": {},
     "output_type": "execute_result"
    }
   ],
   "source": [
    "d[102]={50:[7,8,9,10], 'apple': (20,10,70,[90, 180, 270])}\n",
    "d"
   ]
  },
  {
   "cell_type": "code",
   "execution_count": 24,
   "id": "ce0104c2-907c-4206-99d4-1569f8a7c312",
   "metadata": {},
   "outputs": [
    {
     "data": {
      "text/plain": [
       "{104: 4,\n",
       " 102: {50: [7, 8, 9, 10], 'apple': (20, 10, 70, [90, 180, 270])},\n",
       " 105: 'India',\n",
       " 109: {'a': {40, 70, 90},\n",
       "  'b': (7000, 6000, 9000, 8000),\n",
       "  'c': ['L', {'Y': [22, 55], 'M': (99, 66)}, 'K']}}"
      ]
     },
     "execution_count": 24,
     "metadata": {},
     "output_type": "execute_result"
    }
   ],
   "source": [
    "d[109]={'a':{40,70,90},'b':(7000,6000,9000,8000),'c':['L',{'Y':[22,55],'M':(99,66)},'K']}\n",
    "d"
   ]
  },
  {
   "cell_type": "code",
   "execution_count": 25,
   "id": "4e9c254d-fbf2-4406-a316-6d0436f1b037",
   "metadata": {},
   "outputs": [
    {
     "data": {
      "text/plain": [
       "180"
      ]
     },
     "execution_count": 25,
     "metadata": {},
     "output_type": "execute_result"
    }
   ],
   "source": [
    "d[102]['apple'][3][1]"
   ]
  },
  {
   "cell_type": "code",
   "execution_count": 26,
   "id": "79cb1bc6-ec23-422d-9d4a-9e3ad6a75f2f",
   "metadata": {},
   "outputs": [
    {
     "data": {
      "text/plain": [
       "{'a': {40, 70, 90},\n",
       " 'b': (7000, 6000, 9000, 8000),\n",
       " 'c': ['L', {'Y': [22, 55], 'M': (99, 66)}, 'K']}"
      ]
     },
     "execution_count": 26,
     "metadata": {},
     "output_type": "execute_result"
    }
   ],
   "source": [
    "d[109]"
   ]
  },
  {
   "cell_type": "code",
   "execution_count": null,
   "id": "f42d3a84-97b9-4ca4-981a-df87fa9a4794",
   "metadata": {},
   "outputs": [],
   "source": [
    "d[109][['c'"
   ]
  }
 ],
 "metadata": {
  "kernelspec": {
   "display_name": "Python 3 (ipykernel)",
   "language": "python",
   "name": "python3"
  },
  "language_info": {
   "codemirror_mode": {
    "name": "ipython",
    "version": 3
   },
   "file_extension": ".py",
   "mimetype": "text/x-python",
   "name": "python",
   "nbconvert_exporter": "python",
   "pygments_lexer": "ipython3",
   "version": "3.12.7"
  }
 },
 "nbformat": 4,
 "nbformat_minor": 5
}
