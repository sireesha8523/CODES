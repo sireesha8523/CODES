{
 "cells": [
  {
   "cell_type": "code",
   "execution_count": 2,
   "id": "8340f0ba-dae3-429f-8032-627d35150f95",
   "metadata": {},
   "outputs": [],
   "source": [
    "import numpy as np"
   ]
  },
  {
   "cell_type": "code",
   "execution_count": 3,
   "id": "07cec27e-93d7-4ee9-90fa-9c60636dde38",
   "metadata": {},
   "outputs": [
    {
     "data": {
      "text/plain": [
       "array([19, 20, 18, 20, 19, 20, 20, 19, 19, 19, 20, 18, 18, 19, 18, 20, 20,\n",
       "       19, 19, 19, 20, 20, 20, 20, 19, 20, 20, 20, 19, 20, 19, 18, 20, 20,\n",
       "       20, 18, 20, 19, 20, 19, 18, 19, 18, 20, 19, 19, 18, 18, 19, 20, 18,\n",
       "       18, 19, 18, 19, 20, 18, 19, 18, 19, 20, 19, 20, 18, 20, 19, 18, 18,\n",
       "       20, 18, 18, 19, 19, 19, 20, 19, 18, 18, 18, 19, 20, 18, 18, 18, 18,\n",
       "       19, 20, 18, 20, 20, 20, 20, 18, 18, 20, 19, 20, 20, 20, 19, 20, 18,\n",
       "       19, 18, 18, 18, 18, 18, 18, 19, 18, 18, 18, 18, 19, 19, 18, 18, 20,\n",
       "       19, 20, 19, 19, 19, 20, 18, 18, 20, 20, 19, 20, 20, 18, 18, 18, 18,\n",
       "       19, 19, 19, 19, 20, 18, 20, 19, 18, 19, 18, 20, 18, 20, 19, 20, 18,\n",
       "       19, 18, 18, 20, 19, 18, 20, 20, 19, 19, 19, 20, 19, 20, 20, 20, 19,\n",
       "       20, 19, 19, 20, 20, 20, 19, 20, 18, 20, 19, 18, 18, 20, 18, 19, 20,\n",
       "       19, 20, 20, 19, 20, 19, 19, 18, 19, 18, 20, 18, 19])"
      ]
     },
     "execution_count": 3,
     "metadata": {},
     "output_type": "execute_result"
    }
   ],
   "source": [
    "np.random.randint(18,21,200)"
   ]
  },
  {
   "cell_type": "code",
   "execution_count": 4,
   "id": "1602c4ce-2391-4902-b433-9c11e70d325b",
   "metadata": {},
   "outputs": [
    {
     "data": {
      "text/plain": [
       "[30, 20, 5, 8, 9]"
      ]
     },
     "execution_count": 4,
     "metadata": {},
     "output_type": "execute_result"
    }
   ],
   "source": [
    "h=[30,20,5,8,9]\n",
    "h"
   ]
  },
  {
   "cell_type": "code",
   "execution_count": 5,
   "id": "0f1ed53e-f552-4921-a603-8209037ee203",
   "metadata": {},
   "outputs": [
    {
     "data": {
      "text/plain": [
       "(6, 2, 3, 9, 7, 5, 8)"
      ]
     },
     "execution_count": 5,
     "metadata": {},
     "output_type": "execute_result"
    }
   ],
   "source": [
    "s=(6,2,3,9,7,5,8)\n",
    "s"
   ]
  },
  {
   "cell_type": "code",
   "execution_count": 6,
   "id": "c0a0cf25-14b9-401a-996c-e681ea54f9bc",
   "metadata": {},
   "outputs": [
    {
     "data": {
      "text/plain": [
       "(36, 4, 9, 81, 49, 25, 64)"
      ]
     },
     "execution_count": 6,
     "metadata": {},
     "output_type": "execute_result"
    }
   ],
   "source": [
    "tuple(x**2 for x in s)"
   ]
  },
  {
   "cell_type": "code",
   "execution_count": 7,
   "id": "196922e0-48b5-41eb-90b0-93e1a878f8ff",
   "metadata": {},
   "outputs": [],
   "source": [
    "y=list(s)\n",
    "k=[]\n",
    "for i in y:\n",
    "    k.append(i**2)\n",
    "    s=tuple(k)\n",
    "    s"
   ]
  },
  {
   "cell_type": "code",
   "execution_count": 8,
   "id": "0b85349a-d8b4-4275-92ab-138f8a4b0dc1",
   "metadata": {},
   "outputs": [
    {
     "data": {
      "text/plain": [
       "(36, 4, 9, 81, 49, 25, 64)"
      ]
     },
     "execution_count": 8,
     "metadata": {},
     "output_type": "execute_result"
    }
   ],
   "source": [
    "s"
   ]
  },
  {
   "cell_type": "code",
   "execution_count": 9,
   "id": "0b6951da-2499-4d27-a7e2-70f81535e63b",
   "metadata": {},
   "outputs": [],
   "source": [
    "m=[]\n",
    "for i in s:\n",
    "    if i>30:\n",
    "        m.append(i)"
   ]
  },
  {
   "cell_type": "code",
   "execution_count": 10,
   "id": "65895c30-74a1-4bde-bcdc-2c614a46e05b",
   "metadata": {},
   "outputs": [
    {
     "data": {
      "text/plain": [
       "[36, 81, 49, 64]"
      ]
     },
     "execution_count": 10,
     "metadata": {},
     "output_type": "execute_result"
    }
   ],
   "source": [
    "m"
   ]
  },
  {
   "cell_type": "code",
   "execution_count": 11,
   "id": "933790c7-6728-4f00-a672-ec9cd1d3a0c7",
   "metadata": {},
   "outputs": [],
   "source": [
    "arr=np.array([20,50,30,70,80,40,36,54,23,98])"
   ]
  },
  {
   "cell_type": "code",
   "execution_count": 12,
   "id": "a3e14048-ba34-4e6f-b7de-9093d52cf601",
   "metadata": {},
   "outputs": [
    {
     "data": {
      "text/plain": [
       "array([20, 50, 30, 70, 80, 40, 36, 54, 23, 98])"
      ]
     },
     "execution_count": 12,
     "metadata": {},
     "output_type": "execute_result"
    }
   ],
   "source": [
    "arr"
   ]
  },
  {
   "cell_type": "code",
   "execution_count": 13,
   "id": "81fcb695-c024-4763-99f7-5551b0821130",
   "metadata": {},
   "outputs": [
    {
     "data": {
      "text/plain": [
       "array([ 25,  55,  35,  75,  85,  45,  41,  59,  28, 103])"
      ]
     },
     "execution_count": 13,
     "metadata": {},
     "output_type": "execute_result"
    }
   ],
   "source": [
    "arr+5"
   ]
  },
  {
   "cell_type": "code",
   "execution_count": 14,
   "id": "d0d3d6c3-8136-416a-8c72-9263b8be1f35",
   "metadata": {},
   "outputs": [
    {
     "data": {
      "text/plain": [
       "array([ 400, 2500,  900, 4900, 6400, 1600, 1296, 2916,  529, 9604])"
      ]
     },
     "execution_count": 14,
     "metadata": {},
     "output_type": "execute_result"
    }
   ],
   "source": [
    "arr**2"
   ]
  },
  {
   "cell_type": "code",
   "execution_count": null,
   "id": "dce1d8ee-099d-4177-baed-0e0b8ccefd66",
   "metadata": {},
   "outputs": [],
   "source": []
  }
 ],
 "metadata": {
  "kernelspec": {
   "display_name": "Python 3 (ipykernel)",
   "language": "python",
   "name": "python3"
  },
  "language_info": {
   "codemirror_mode": {
    "name": "ipython",
    "version": 3
   },
   "file_extension": ".py",
   "mimetype": "text/x-python",
   "name": "python",
   "nbconvert_exporter": "python",
   "pygments_lexer": "ipython3",
   "version": "3.12.7"
  }
 },
 "nbformat": 4,
 "nbformat_minor": 5
}
