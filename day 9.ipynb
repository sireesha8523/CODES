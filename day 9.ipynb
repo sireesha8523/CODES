{
 "cells": [
  {
   "cell_type": "code",
   "execution_count": null,
   "id": "0f346416-1543-49d3-a91c-82ec7a88b2a2",
   "metadata": {},
   "outputs": [],
   "source": [
    "def functionname( parameter):\n",
    "    block of code\n",
    "    return output"
   ]
  },
  {
   "cell_type": "code",
   "execution_count": 2,
   "id": "9ef0cf5f-3255-4467-8b26-32a417f044c0",
   "metadata": {},
   "outputs": [],
   "source": [
    "def calArea(r):\n",
    "    a=3.14*r*r\n",
    "    return a"
   ]
  },
  {
   "cell_type": "code",
   "execution_count": 3,
   "id": "b5b3b85d-14e5-4f69-97b9-0d0bf42f86bf",
   "metadata": {},
   "outputs": [
    {
     "data": {
      "text/plain": [
       "2826.0"
      ]
     },
     "execution_count": 3,
     "metadata": {},
     "output_type": "execute_result"
    }
   ],
   "source": [
    "calArea(r=30)"
   ]
  },
  {
   "cell_type": "code",
   "execution_count": 4,
   "id": "9db682d4-907b-49e0-b5cb-20f512a2b15d",
   "metadata": {},
   "outputs": [
    {
     "data": {
      "text/plain": [
       "2826.0"
      ]
     },
     "execution_count": 4,
     "metadata": {},
     "output_type": "execute_result"
    }
   ],
   "source": [
    "w=calArea(r=30)\n",
    "w"
   ]
  },
  {
   "cell_type": "code",
   "execution_count": 5,
   "id": "a760e354-a35c-4d0b-aa91-d7f269e52426",
   "metadata": {},
   "outputs": [
    {
     "data": {
      "text/plain": [
       "314.0"
      ]
     },
     "execution_count": 5,
     "metadata": {},
     "output_type": "execute_result"
    }
   ],
   "source": [
    "calArea(r=10)"
   ]
  },
  {
   "cell_type": "code",
   "execution_count": 6,
   "id": "75c7f7c5-2f11-4ebf-b692-0431c8122fba",
   "metadata": {},
   "outputs": [
    {
     "data": {
      "text/plain": [
       "314.0"
      ]
     },
     "execution_count": 6,
     "metadata": {},
     "output_type": "execute_result"
    }
   ],
   "source": [
    "w=calArea(r=10)\n",
    "w"
   ]
  },
  {
   "cell_type": "code",
   "execution_count": 7,
   "id": "8e8eb6fe-ec8e-41bd-acc2-888d9d2733fb",
   "metadata": {},
   "outputs": [
    {
     "data": {
      "text/plain": [
       "float"
      ]
     },
     "execution_count": 7,
     "metadata": {},
     "output_type": "execute_result"
    }
   ],
   "source": [
    "type(w)"
   ]
  },
  {
   "cell_type": "code",
   "execution_count": 8,
   "id": "c26317ee-4e11-4360-84cc-43660e87f6ff",
   "metadata": {},
   "outputs": [
    {
     "data": {
      "text/plain": [
       "123.45"
      ]
     },
     "execution_count": 8,
     "metadata": {},
     "output_type": "execute_result"
    }
   ],
   "source": [
    "a=123.45\n",
    "a"
   ]
  },
  {
   "cell_type": "code",
   "execution_count": 9,
   "id": "f3951f30-0732-4424-bf57-84e5a5cefc2d",
   "metadata": {},
   "outputs": [
    {
     "data": {
      "text/plain": [
       "133.45"
      ]
     },
     "execution_count": 9,
     "metadata": {},
     "output_type": "execute_result"
    }
   ],
   "source": [
    "a+10"
   ]
  },
  {
   "cell_type": "code",
   "execution_count": 10,
   "id": "15e62ea1-4b52-456b-b0ab-3ebbbf4b45ac",
   "metadata": {},
   "outputs": [
    {
     "data": {
      "text/plain": [
       "324.0"
      ]
     },
     "execution_count": 10,
     "metadata": {},
     "output_type": "execute_result"
    }
   ],
   "source": [
    "w+10"
   ]
  },
  {
   "cell_type": "code",
   "execution_count": 11,
   "id": "658badcb-bb86-4ce3-b961-12d6571ad198",
   "metadata": {},
   "outputs": [
    {
     "name": "stdout",
     "output_type": "stream",
     "text": [
      "India\n"
     ]
    }
   ],
   "source": [
    "a=print('India')\n",
    "a"
   ]
  },
  {
   "cell_type": "code",
   "execution_count": 13,
   "id": "d79d127b-bdba-4faa-8d68-0e9a1ea7c233",
   "metadata": {},
   "outputs": [],
   "source": [
    "def aor(l,w):\n",
    "    area=l*w\n",
    "    return area"
   ]
  },
  {
   "cell_type": "code",
   "execution_count": 18,
   "id": "23e7b46c-2302-4b4d-b2ae-ec27b678b1cc",
   "metadata": {},
   "outputs": [
    {
     "data": {
      "text/plain": [
       "20"
      ]
     },
     "execution_count": 18,
     "metadata": {},
     "output_type": "execute_result"
    }
   ],
   "source": [
    "aor(2,10)"
   ]
  },
  {
   "cell_type": "code",
   "execution_count": 17,
   "id": "5a97bd93-0078-4292-be3f-b1900286ae02",
   "metadata": {},
   "outputs": [
    {
     "data": {
      "text/plain": [
       "50"
      ]
     },
     "execution_count": 17,
     "metadata": {},
     "output_type": "execute_result"
    }
   ],
   "source": [
    "aor(w=5,l=10)"
   ]
  },
  {
   "cell_type": "code",
   "execution_count": 30,
   "id": "fa32a58c-ca2a-4e11-8e2e-08c7c5ba23e3",
   "metadata": {},
   "outputs": [],
   "source": [
    "def area(rad,length,width):\n",
    "    aoc=3.14*rad*rad\n",
    "    aor=length*width\n",
    "    return aoc,aor"
   ]
  },
  {
   "cell_type": "code",
   "execution_count": 34,
   "id": "5c600033-9501-4661-89ba-fa86396ce766",
   "metadata": {},
   "outputs": [
    {
     "data": {
      "text/plain": [
       "<function __main__.aor(rad, length, width)>"
      ]
     },
     "execution_count": 34,
     "metadata": {},
     "output_type": "execute_result"
    }
   ],
   "source": [
    "aor"
   ]
  },
  {
   "cell_type": "code",
   "execution_count": 31,
   "id": "3406e8dc-a2bf-4c0a-bc43-b27a7cfbc504",
   "metadata": {},
   "outputs": [
    {
     "data": {
      "text/plain": [
       "(314.0, 100)"
      ]
     },
     "execution_count": 31,
     "metadata": {},
     "output_type": "execute_result"
    }
   ],
   "source": [
    "area(rad=10,length=20,width=5)"
   ]
  },
  {
   "cell_type": "code",
   "execution_count": 32,
   "id": "3b32989d-6d81-4733-b51d-9d2d79cf7166",
   "metadata": {},
   "outputs": [
    {
     "data": {
      "text/plain": [
       "function"
      ]
     },
     "execution_count": 32,
     "metadata": {},
     "output_type": "execute_result"
    }
   ],
   "source": [
    "type(area)"
   ]
  },
  {
   "cell_type": "code",
   "execution_count": 36,
   "id": "4d74b5d4-587c-45d5-a8f3-b004aac7b827",
   "metadata": {},
   "outputs": [],
   "source": [
    "def area(rad,length,width):\n",
    "    aoc=3.14*rad*rad\n",
    "    aor=length*width\n",
    "    return {'Area of circle':aoc,'area of rectangle':aor}"
   ]
  },
  {
   "cell_type": "code",
   "execution_count": 38,
   "id": "5ad4ca79-8163-461e-be66-2be8a26846e8",
   "metadata": {},
   "outputs": [
    {
     "data": {
      "text/plain": [
       "{'Area of circle': 314.0, 'area of rectangle': 100}"
      ]
     },
     "execution_count": 38,
     "metadata": {},
     "output_type": "execute_result"
    }
   ],
   "source": [
    "area(rad=10,length=20,width=5)"
   ]
  },
  {
   "cell_type": "code",
   "execution_count": 40,
   "id": "1793bba0-f35b-4824-b335-8ec49ff94852",
   "metadata": {},
   "outputs": [
    {
     "data": {
      "text/plain": [
       "'HyderabAAd 500008 Telangana'"
      ]
     },
     "execution_count": 40,
     "metadata": {},
     "output_type": "execute_result"
    }
   ],
   "source": [
    "t='HyderabAAd 500008 Telangana'\n",
    "t"
   ]
  },
  {
   "cell_type": "code",
   "execution_count": 41,
   "id": "8c9eb7d7-3e69-492d-b3f9-c64753ae81c9",
   "metadata": {},
   "outputs": [],
   "source": [
    "def countA(x):\n",
    "    d=x.lower()\n",
    "    return d.count('a')"
   ]
  },
  {
   "cell_type": "code",
   "execution_count": 42,
   "id": "5b89f96e-23b4-4f59-b641-502a4d999663",
   "metadata": {},
   "outputs": [
    {
     "data": {
      "text/plain": [
       "6"
      ]
     },
     "execution_count": 42,
     "metadata": {},
     "output_type": "execute_result"
    }
   ],
   "source": [
    "countA(t)"
   ]
  },
  {
   "cell_type": "code",
   "execution_count": 45,
   "id": "acc9703a-2e02-42e0-afae-ed0d37050eb9",
   "metadata": {},
   "outputs": [],
   "source": [
    "def count_num_alpha(x):\n",
    "    c=0\n",
    "    d=0\n",
    "    for i in x:\n",
    "        if i.isalpha():\n",
    "            c+=1\n",
    "        elif i.isnumeric():\n",
    "            d+=1\n",
    "    return {'Number of alphabets':c,'Number of digits':d}"
   ]
  },
  {
   "cell_type": "code",
   "execution_count": null,
   "id": "1b93825d-8597-437e-a1c8-1973a859a9bb",
   "metadata": {},
   "outputs": [],
   "source": []
  }
 ],
 "metadata": {
  "kernelspec": {
   "display_name": "Python 3 (ipykernel)",
   "language": "python",
   "name": "python3"
  },
  "language_info": {
   "codemirror_mode": {
    "name": "ipython",
    "version": 3
   },
   "file_extension": ".py",
   "mimetype": "text/x-python",
   "name": "python",
   "nbconvert_exporter": "python",
   "pygments_lexer": "ipython3",
   "version": "3.12.7"
  }
 },
 "nbformat": 4,
 "nbformat_minor": 5
}
